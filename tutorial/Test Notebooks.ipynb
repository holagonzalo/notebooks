{
 "metadata": {
  "name": "",
  "signature": "sha256:3cbe8ad94000194f69ee992d1e46e0e0e33713ffeb6822d7083f175b65951a0c"
 },
 "nbformat": 3,
 "nbformat_minor": 0,
 "worksheets": [
  {
   "cells": [
    {
     "cell_type": "code",
     "collapsed": false,
     "input": [],
     "language": "python",
     "metadata": {},
     "outputs": []
    }
   ],
   "metadata": {}
  }
 ]
}