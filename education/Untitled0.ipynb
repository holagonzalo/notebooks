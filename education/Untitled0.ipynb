{
 "metadata": {
  "name": "",
  "signature": "sha256:9cc2623e5a87320f08950e941a75fec4c0a92bc05e91858ab0ffe63d81ffd88d"
 },
 "nbformat": 3,
 "nbformat_minor": 0,
 "worksheets": []
}